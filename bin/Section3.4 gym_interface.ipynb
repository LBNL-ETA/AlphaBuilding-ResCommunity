{
 "cells": [
  {
   "cell_type": "markdown",
   "metadata": {},
   "source": [
    "This notebook is to demonstrate the interface of the developed environment\n",
    "\n",
    "Replace the variable *PATH_TO_ROOT* to run the notebook"
   ]
  },
  {
   "cell_type": "code",
   "execution_count": 1,
   "metadata": {},
   "outputs": [],
   "source": [
    "import sys\n",
    "\n",
    "PATH_TO_ROOT = 'C:/Users/walter/Desktop/git/AlphaBuilding-ResCommunity'\n",
    "sys.path.insert(0,PATH_TO_ROOT)"
   ]
  },
  {
   "cell_type": "code",
   "execution_count": 2,
   "metadata": {},
   "outputs": [],
   "source": [
    "import pandas as pd\n",
    "import numpy as np\n",
    "\n",
    "from gym_AlphaBuilding.envs import residential\n",
    "from bin.util.distribution import utility\n",
    "from bin.util.weather import noaa_weather"
   ]
  },
  {
   "cell_type": "code",
   "execution_count": 3,
   "metadata": {},
   "outputs": [],
   "source": [
    "# Retrieve the Thermal Time Constant and Equivalent Temperature inferred from the Ecobee DYD Dataset \n",
    "# Users can use their own data or use the provided function (different value for different state)\n",
    "city = 'Berkeley'\n",
    "state = 'CA'\n",
    "ttc = utility.get_ttc(state)\n",
    "teq = utility.get_teq(state)"
   ]
  },
  {
   "cell_type": "code",
   "execution_count": 4,
   "metadata": {},
   "outputs": [],
   "source": [
    "# Retrieve the comfort temperature zone using the provided function\n",
    "# Four methods supported: 'ASHRAE PMV', 'ASHRAE adaptive', 'Wang2020', and 'ResStock'\n",
    "tsp, trange = utility.get_comfort_temp('cooling', 'Wang2020')"
   ]
  },
  {
   "cell_type": "code",
   "execution_count": 5,
   "metadata": {},
   "outputs": [],
   "source": [
    "SAMPLE_SIZE = 100\n",
    "STEP_SIZE = 15 # min\n",
    "start_date = '2018-07-01'\n",
    "final_date = '2018-08-01'\n",
    "year = 2018\n",
    "sim_horizon = (start_date, final_date)"
   ]
  },
  {
   "cell_type": "code",
   "execution_count": 6,
   "metadata": {},
   "outputs": [],
   "source": [
    "# Download weather data from NOAA weather stations\n",
    "# If you want to use your own weather data, skip this step\n",
    "address = '{}, {}'.format(city, state)\n",
    "station_ids, station_names = noaa_weather.find_closest_weather_station(noaa_weather.geocode_address(address))\n",
    "\n",
    "# You might need to try a couple of weather stations, because some weather stations have large missing rate \n",
    "weather = noaa_weather.download_weather(station_ids[0], year)\n",
    "weather = weather.tz_convert('America/Los_Angeles').tz_localize(None)  # remove tz-awareness\n",
    "\n",
    "# truncate and resample the weather data to fit the simulation horizon and time step\n",
    "weather_h = weather.resample('1H').mean()  # hourlu average to remove noise\n",
    "# ambient_temp = weather_h.resample('{}min'.format(STEP_SIZE)).interpolate()[['Temperature']]\n",
    "weather_h = weather_h.resample('{}min'.format(STEP_SIZE)).interpolate()\n",
    "weather_h = weather_h.truncate(*sim_horizon)"
   ]
  },
  {
   "cell_type": "code",
   "execution_count": 7,
   "metadata": {},
   "outputs": [
    {
     "data": {
      "text/html": [
       "<div>\n",
       "<style scoped>\n",
       "    .dataframe tbody tr th:only-of-type {\n",
       "        vertical-align: middle;\n",
       "    }\n",
       "\n",
       "    .dataframe tbody tr th {\n",
       "        vertical-align: top;\n",
       "    }\n",
       "\n",
       "    .dataframe thead th {\n",
       "        text-align: right;\n",
       "    }\n",
       "</style>\n",
       "<table border=\"1\" class=\"dataframe\">\n",
       "  <thead>\n",
       "    <tr style=\"text-align: right;\">\n",
       "      <th></th>\n",
       "      <th>Temperature</th>\n",
       "      <th>CloudCoverage</th>\n",
       "    </tr>\n",
       "    <tr>\n",
       "      <th>DateTime</th>\n",
       "      <th></th>\n",
       "      <th></th>\n",
       "    </tr>\n",
       "  </thead>\n",
       "  <tbody>\n",
       "    <tr>\n",
       "      <th>2018-07-01 00:00:00</th>\n",
       "      <td>14.400</td>\n",
       "      <td>4.0</td>\n",
       "    </tr>\n",
       "    <tr>\n",
       "      <th>2018-07-01 00:15:00</th>\n",
       "      <td>14.275</td>\n",
       "      <td>4.0</td>\n",
       "    </tr>\n",
       "    <tr>\n",
       "      <th>2018-07-01 00:30:00</th>\n",
       "      <td>14.150</td>\n",
       "      <td>4.0</td>\n",
       "    </tr>\n",
       "    <tr>\n",
       "      <th>2018-07-01 00:45:00</th>\n",
       "      <td>14.025</td>\n",
       "      <td>4.0</td>\n",
       "    </tr>\n",
       "    <tr>\n",
       "      <th>2018-07-01 01:00:00</th>\n",
       "      <td>13.900</td>\n",
       "      <td>4.0</td>\n",
       "    </tr>\n",
       "  </tbody>\n",
       "</table>\n",
       "</div>"
      ],
      "text/plain": [
       "                     Temperature  CloudCoverage\n",
       "DateTime                                       \n",
       "2018-07-01 00:00:00       14.400            4.0\n",
       "2018-07-01 00:15:00       14.275            4.0\n",
       "2018-07-01 00:30:00       14.150            4.0\n",
       "2018-07-01 00:45:00       14.025            4.0\n",
       "2018-07-01 01:00:00       13.900            4.0"
      ]
     },
     "execution_count": 7,
     "metadata": {},
     "output_type": "execute_result"
    }
   ],
   "source": [
    "# Make the time index matches with simulation horizon and step size\n",
    "weather_h = weather_h.resample('{}min'.format(STEP_SIZE)).interpolate()\n",
    "weather_h.head()"
   ]
  },
  {
   "cell_type": "code",
   "execution_count": 8,
   "metadata": {},
   "outputs": [
    {
     "name": "stderr",
     "output_type": "stream",
     "text": [
      "C:\\Users\\walter\\Anaconda3\\envs\\ecobee_env\\lib\\site-packages\\gym\\logger.py:30: UserWarning: \u001b[33mWARN: Box bound precision lowered by casting to float16\u001b[0m\n",
      "  warnings.warn(colorize('%s: %s'%('WARN', msg % args), 'yellow'))\n"
     ]
    }
   ],
   "source": [
    "# Set up the environment\n",
    "env = residential.AlphaResEnv(sampleSize  = SAMPLE_SIZE, \n",
    "                           stepSize    = STEP_SIZE, \n",
    "                           simHorizon  = (start_date, final_date),\n",
    "                           ambientWeather = weather_h, \n",
    "                           ttc = ttc, \n",
    "                           teq = teq, \n",
    "                           tsp = tsp, \n",
    "                           trange = trange,\n",
    "                           hvacMode = 'cooling only')"
   ]
  },
  {
   "cell_type": "code",
   "execution_count": 14,
   "metadata": {},
   "outputs": [
    {
     "data": {
      "text/html": [
       "<div>\n",
       "<style scoped>\n",
       "    .dataframe tbody tr th:only-of-type {\n",
       "        vertical-align: middle;\n",
       "    }\n",
       "\n",
       "    .dataframe tbody tr th {\n",
       "        vertical-align: top;\n",
       "    }\n",
       "\n",
       "    .dataframe thead th {\n",
       "        text-align: right;\n",
       "    }\n",
       "</style>\n",
       "<table border=\"1\" class=\"dataframe\">\n",
       "  <thead>\n",
       "    <tr style=\"text-align: right;\">\n",
       "      <th></th>\n",
       "      <th>R</th>\n",
       "      <th>C</th>\n",
       "      <th>P_h</th>\n",
       "      <th>P_c</th>\n",
       "      <th>Q_h</th>\n",
       "      <th>Q_c</th>\n",
       "      <th>COP_h</th>\n",
       "      <th>COP_c</th>\n",
       "      <th>T_sp</th>\n",
       "      <th>T_range</th>\n",
       "    </tr>\n",
       "  </thead>\n",
       "  <tbody>\n",
       "    <tr>\n",
       "      <th>0</th>\n",
       "      <td>3.178953</td>\n",
       "      <td>4.311134</td>\n",
       "      <td>5.503430</td>\n",
       "      <td>6.280656</td>\n",
       "      <td>13.892792</td>\n",
       "      <td>-17.489804</td>\n",
       "      <td>2.524388</td>\n",
       "      <td>2.784710</td>\n",
       "      <td>22.636747</td>\n",
       "      <td>1.212448</td>\n",
       "    </tr>\n",
       "    <tr>\n",
       "      <th>1</th>\n",
       "      <td>5.212068</td>\n",
       "      <td>5.266271</td>\n",
       "      <td>4.365370</td>\n",
       "      <td>2.427730</td>\n",
       "      <td>9.199646</td>\n",
       "      <td>-6.880872</td>\n",
       "      <td>2.107415</td>\n",
       "      <td>2.834282</td>\n",
       "      <td>22.716786</td>\n",
       "      <td>1.210666</td>\n",
       "    </tr>\n",
       "    <tr>\n",
       "      <th>2</th>\n",
       "      <td>2.879207</td>\n",
       "      <td>4.696964</td>\n",
       "      <td>6.909608</td>\n",
       "      <td>7.777653</td>\n",
       "      <td>16.125538</td>\n",
       "      <td>-21.138264</td>\n",
       "      <td>2.333785</td>\n",
       "      <td>2.717820</td>\n",
       "      <td>21.363123</td>\n",
       "      <td>1.209928</td>\n",
       "    </tr>\n",
       "    <tr>\n",
       "      <th>3</th>\n",
       "      <td>3.909824</td>\n",
       "      <td>3.438950</td>\n",
       "      <td>3.172327</td>\n",
       "      <td>3.729512</td>\n",
       "      <td>10.930604</td>\n",
       "      <td>-10.121846</td>\n",
       "      <td>3.445611</td>\n",
       "      <td>2.713987</td>\n",
       "      <td>22.880377</td>\n",
       "      <td>1.072514</td>\n",
       "    </tr>\n",
       "    <tr>\n",
       "      <th>4</th>\n",
       "      <td>4.904999</td>\n",
       "      <td>4.586961</td>\n",
       "      <td>4.030092</td>\n",
       "      <td>3.114177</td>\n",
       "      <td>7.844049</td>\n",
       "      <td>-7.703726</td>\n",
       "      <td>1.946370</td>\n",
       "      <td>2.473760</td>\n",
       "      <td>22.700973</td>\n",
       "      <td>1.145890</td>\n",
       "    </tr>\n",
       "    <tr>\n",
       "      <th>...</th>\n",
       "      <td>...</td>\n",
       "      <td>...</td>\n",
       "      <td>...</td>\n",
       "      <td>...</td>\n",
       "      <td>...</td>\n",
       "      <td>...</td>\n",
       "      <td>...</td>\n",
       "      <td>...</td>\n",
       "      <td>...</td>\n",
       "      <td>...</td>\n",
       "    </tr>\n",
       "    <tr>\n",
       "      <th>95</th>\n",
       "      <td>0.964838</td>\n",
       "      <td>2.199996</td>\n",
       "      <td>19.469290</td>\n",
       "      <td>13.034931</td>\n",
       "      <td>48.541267</td>\n",
       "      <td>-36.011679</td>\n",
       "      <td>2.493222</td>\n",
       "      <td>2.762706</td>\n",
       "      <td>21.824816</td>\n",
       "      <td>1.272785</td>\n",
       "    </tr>\n",
       "    <tr>\n",
       "      <th>96</th>\n",
       "      <td>3.707803</td>\n",
       "      <td>4.186959</td>\n",
       "      <td>5.297968</td>\n",
       "      <td>4.071871</td>\n",
       "      <td>13.759894</td>\n",
       "      <td>-10.519512</td>\n",
       "      <td>2.597202</td>\n",
       "      <td>2.583459</td>\n",
       "      <td>24.747277</td>\n",
       "      <td>1.200239</td>\n",
       "    </tr>\n",
       "    <tr>\n",
       "      <th>97</th>\n",
       "      <td>1.326314</td>\n",
       "      <td>6.278249</td>\n",
       "      <td>27.580173</td>\n",
       "      <td>19.093514</td>\n",
       "      <td>48.272835</td>\n",
       "      <td>-39.247956</td>\n",
       "      <td>1.750273</td>\n",
       "      <td>2.055565</td>\n",
       "      <td>23.387746</td>\n",
       "      <td>1.249595</td>\n",
       "    </tr>\n",
       "    <tr>\n",
       "      <th>98</th>\n",
       "      <td>1.418523</td>\n",
       "      <td>2.534950</td>\n",
       "      <td>15.677371</td>\n",
       "      <td>9.655946</td>\n",
       "      <td>34.892389</td>\n",
       "      <td>-28.923862</td>\n",
       "      <td>2.225653</td>\n",
       "      <td>2.995446</td>\n",
       "      <td>22.967204</td>\n",
       "      <td>1.353424</td>\n",
       "    </tr>\n",
       "    <tr>\n",
       "      <th>99</th>\n",
       "      <td>3.068021</td>\n",
       "      <td>6.855115</td>\n",
       "      <td>7.054217</td>\n",
       "      <td>6.411683</td>\n",
       "      <td>20.047979</td>\n",
       "      <td>-16.892028</td>\n",
       "      <td>2.841985</td>\n",
       "      <td>2.634570</td>\n",
       "      <td>20.674996</td>\n",
       "      <td>1.193135</td>\n",
       "    </tr>\n",
       "  </tbody>\n",
       "</table>\n",
       "<p>100 rows × 10 columns</p>\n",
       "</div>"
      ],
      "text/plain": [
       "           R         C        P_h        P_c        Q_h        Q_c     COP_h  \\\n",
       "0   3.178953  4.311134   5.503430   6.280656  13.892792 -17.489804  2.524388   \n",
       "1   5.212068  5.266271   4.365370   2.427730   9.199646  -6.880872  2.107415   \n",
       "2   2.879207  4.696964   6.909608   7.777653  16.125538 -21.138264  2.333785   \n",
       "3   3.909824  3.438950   3.172327   3.729512  10.930604 -10.121846  3.445611   \n",
       "4   4.904999  4.586961   4.030092   3.114177   7.844049  -7.703726  1.946370   \n",
       "..       ...       ...        ...        ...        ...        ...       ...   \n",
       "95  0.964838  2.199996  19.469290  13.034931  48.541267 -36.011679  2.493222   \n",
       "96  3.707803  4.186959   5.297968   4.071871  13.759894 -10.519512  2.597202   \n",
       "97  1.326314  6.278249  27.580173  19.093514  48.272835 -39.247956  1.750273   \n",
       "98  1.418523  2.534950  15.677371   9.655946  34.892389 -28.923862  2.225653   \n",
       "99  3.068021  6.855115   7.054217   6.411683  20.047979 -16.892028  2.841985   \n",
       "\n",
       "       COP_c       T_sp   T_range  \n",
       "0   2.784710  22.636747  1.212448  \n",
       "1   2.834282  22.716786  1.210666  \n",
       "2   2.717820  21.363123  1.209928  \n",
       "3   2.713987  22.880377  1.072514  \n",
       "4   2.473760  22.700973  1.145890  \n",
       "..       ...        ...       ...  \n",
       "95  2.762706  21.824816  1.272785  \n",
       "96  2.583459  24.747277  1.200239  \n",
       "97  2.055565  23.387746  1.249595  \n",
       "98  2.995446  22.967204  1.353424  \n",
       "99  2.634570  20.674996  1.193135  \n",
       "\n",
       "[100 rows x 10 columns]"
      ]
     },
     "execution_count": 14,
     "metadata": {},
     "output_type": "execute_result"
    }
   ],
   "source": [
    "# Get the parameter of the environment\n",
    "env.getParameter()"
   ]
  },
  {
   "cell_type": "code",
   "execution_count": 16,
   "metadata": {},
   "outputs": [
    {
     "name": "stdout",
     "output_type": "stream",
     "text": [
      "The length of the returned obs is 103, whichs equals to 3 + 100\n"
     ]
    }
   ],
   "source": [
    "# Reset the environment to start simulation\n",
    "obs = env.reset()\n",
    "print(f'The length of the returned obs is {len(obs)}, whichs equals to 3 + {SAMPLE_SIZE}')"
   ]
  },
  {
   "cell_type": "code",
   "execution_count": 17,
   "metadata": {},
   "outputs": [],
   "source": [
    "# Select the control action: 1 for heating, 2 for cooling, 0 for free floating\n",
    "acts = np.ones(100)*2"
   ]
  },
  {
   "cell_type": "code",
   "execution_count": 18,
   "metadata": {},
   "outputs": [],
   "source": [
    "# One step simulation using the selected control action\n",
    "obs, reward, done, comments = env.step(acts)"
   ]
  },
  {
   "cell_type": "code",
   "execution_count": 19,
   "metadata": {},
   "outputs": [
    {
     "data": {
      "text/plain": [
       "array([ 14.275     ,   4.        ,   0.        ,  21.799514  ,\n",
       "        23.19061678,  19.62970293,  22.72365714,  22.32328225,\n",
       "        19.13324538,  24.16810438,  20.85134337,  19.23294827,\n",
       "        21.83197312,  20.96864367,  23.14936142,  21.29804592,\n",
       "        20.59104784,  21.6651015 ,  19.93353615,  20.82738196,\n",
       "        21.7308561 ,  21.64980244,  21.767025  ,  20.18778795,\n",
       "        19.1655812 ,  22.83062735,  20.889484  ,  20.58653708,\n",
       "        22.08616466,  21.93892298,  22.72706996,  22.43468837,\n",
       "        23.16079656,  21.4775367 ,  21.30673446,  23.15865556,\n",
       "        22.18800593,  21.96305539,  20.78172688,  22.00244483,\n",
       "        23.2695205 ,  22.95420672,  21.1644798 ,  22.96447271,\n",
       "        19.39806158,  22.39066632,  20.76205733,  23.10427196,\n",
       "        20.95450402,  22.51536369,  23.99992726,  24.96457363,\n",
       "        20.61700297,  20.76785318,  22.28681135,  23.29698025,\n",
       "        22.27723211, -21.1601895 ,  22.05775195,  20.92683053,\n",
       "        21.31429604,  22.29533252,  20.47757963,  22.51362497,\n",
       "        22.86133132,  21.42080769,  23.09060941,  23.44430103,\n",
       "        22.01484118,  22.48895394,  22.50925135,  21.15335464,\n",
       "        21.45583043,  19.64157281,  21.31006174,  20.64751615,\n",
       "        24.11704118,  21.53749504,  20.85726251,  21.15493728,\n",
       "        20.52119542,  20.83934511,  20.38294595,  22.19470167,\n",
       "        20.80652826,  26.09098255,  22.60428414,   4.52225091,\n",
       "        23.2055686 ,  22.32734681,  21.54062021,  23.32187302,\n",
       "        21.39271465,  22.70557979,  22.33780958,  19.94452586,\n",
       "        22.62903877,  22.62963403,  16.67436807,  24.01589857,\n",
       "        20.58004851,  19.83243497,  19.52705613])"
      ]
     },
     "execution_count": 19,
     "metadata": {},
     "output_type": "execute_result"
    }
   ],
   "source": [
    "# Returned observations\n",
    "obs"
   ]
  },
  {
   "cell_type": "code",
   "execution_count": 20,
   "metadata": {},
   "outputs": [
    {
     "data": {
      "text/plain": [
       "{'Energy': 236.48617559764037,\n",
       " 'Comfort_UCDH': 30.60411613770671,\n",
       " 'intHG': array([2.52028954, 4.17899077, 2.25803688, 0.59023725, 1.09778544,\n",
       "        1.7647174 , 0.95084631, 3.94748221, 5.69286218, 0.75456931,\n",
       "        1.49696049, 5.60348525, 2.39740774, 4.90005546, 0.16655678,\n",
       "        0.83878269, 2.86929066, 2.88129307, 3.45702767, 5.10949322,\n",
       "        2.98299978, 1.96623892, 3.49002733, 2.66451969, 4.08909779,\n",
       "        0.97299659, 6.06233016, 2.39408864, 2.22092463, 4.05465292,\n",
       "        3.68278545, 1.33164841, 4.14116974, 1.20296817, 4.77961981,\n",
       "        1.84428249, 3.6262243 , 1.59414416, 0.81659635, 4.90371718,\n",
       "        1.90734429, 3.42417355, 2.33195877, 0.49163445, 0.96038042,\n",
       "        2.07351204, 1.06310272, 4.80880277, 2.29282951, 1.49889786,\n",
       "        1.41198476, 2.09169426, 1.36491997, 5.0148112 , 2.61235064,\n",
       "        2.35459997, 4.12222807, 0.71781037, 3.83218208, 0.02729512,\n",
       "        2.15019237, 1.32086561, 2.51047428, 5.78111215, 2.70884299,\n",
       "        3.37467906, 5.87103904, 4.3334028 , 3.50243769, 3.54503569,\n",
       "        1.95013444, 1.68520603, 0.45435073, 2.05574122, 4.10809823,\n",
       "        5.78652553, 1.41418759, 1.297092  , 2.28090475, 1.68627988,\n",
       "        2.38832833, 2.24206304, 0.61071927, 3.89236713, 1.42284835,\n",
       "        2.34787284, 1.70726571, 2.39887292, 2.32160997, 3.24240761,\n",
       "        1.40543982, 3.22056001, 4.64236628, 2.39803782, 3.07473932,\n",
       "        0.78216218, 2.85155847, 3.00799087, 3.81526237, 1.90696383]),\n",
       " 'solHG': array([0., 0., 0., 0., 0., 0., 0., 0., 0., 0., 0., 0., 0., 0., 0., 0., 0.,\n",
       "        0., 0., 0., 0., 0., 0., 0., 0., 0., 0., 0., 0., 0., 0., 0., 0., 0.,\n",
       "        0., 0., 0., 0., 0., 0., 0., 0., 0., 0., 0., 0., 0., 0., 0., 0., 0.,\n",
       "        0., 0., 0., 0., 0., 0., 0., 0., 0., 0., 0., 0., 0., 0., 0., 0., 0.,\n",
       "        0., 0., 0., 0., 0., 0., 0., 0., 0., 0., 0., 0., 0., 0., 0., 0., 0.,\n",
       "        0., 0., 0., 0., 0., 0., 0., 0., 0., 0., 0., 0., 0., 0., 0.]),\n",
       " 'noise': array([-1.13115585e+00,  1.38695181e+00, -1.13372492e+00, -1.27225324e-01,\n",
       "        -1.71561061e-01,  1.15273572e+00, -9.30429409e-02,  1.20705263e+00,\n",
       "         5.79449741e-01, -2.38293227e-01,  1.12760500e+00, -7.17777819e-01,\n",
       "        -1.38482659e+00,  6.73040767e-01,  5.51883333e-01,  2.82033931e-02,\n",
       "         1.24289727e-02,  6.20538420e-01, -3.78468315e-01,  1.09719655e+00,\n",
       "        -2.45756123e-01, -1.15726161e-01, -3.56533459e-01, -6.58313944e-01,\n",
       "         1.05487649e+00, -8.66098486e-01,  1.25111043e+00,  1.27151869e+00,\n",
       "        -1.20898380e+00,  3.05859970e-01,  1.18665263e+00, -5.75089238e-01,\n",
       "        -1.30989440e+00, -1.34301730e+00,  2.15623447e-01,  6.48182334e-01,\n",
       "        -1.42659297e-01,  4.61753845e-01,  9.19744856e-01, -8.00896125e-01,\n",
       "         8.49497574e-01,  8.24700453e-01, -3.98368622e-01, -1.35458175e+00,\n",
       "         1.99360955e+00, -7.47407145e-01,  1.12965106e-01, -6.86668860e-02,\n",
       "         1.22619256e+00, -8.31357604e-01, -2.83671837e-01, -8.22040909e-02,\n",
       "         2.17809856e-01, -6.28336938e-01, -8.12003328e-01,  4.39303717e-01,\n",
       "         6.55312631e-01, -3.20746145e-01, -1.39770933e+00, -1.33118370e+00,\n",
       "        -1.11389963e+00, -1.92250528e-01,  9.42832137e-02,  8.92978679e-03,\n",
       "         3.45513221e-02,  6.94889275e-02,  3.47294049e-01, -1.74017772e+00,\n",
       "        -5.52616844e-01,  4.86696169e-01, -1.84103041e+00, -1.00099298e+00,\n",
       "         8.54833194e-01, -7.16608298e-01, -2.00206410e+00,  1.66053546e+00,\n",
       "         1.61758835e-01, -3.03477880e-01, -1.07618966e+00, -8.86531236e-01,\n",
       "         4.29338482e-03, -1.42278983e+00,  7.08063081e-01, -1.27451107e+00,\n",
       "         6.81760760e-01, -4.49231601e-01,  7.14129089e-02, -1.39452339e-01,\n",
       "         6.41331329e-01,  9.24079443e-02,  1.23717976e+00, -1.01154918e+00,\n",
       "        -1.33181863e+00, -1.04447136e+00, -1.12753364e+00,  3.34259601e-01,\n",
       "         1.97506451e-01, -4.75392950e-02,  8.43564813e-04,  2.71583719e-01]),\n",
       " 'error': array([ 0.6096948 ,  1.07628454, -0.66490464,  0.50308544,  0.13428029,\n",
       "        -0.40255851,  0.56416915,  0.61077065, -0.6279565 ,  0.23847559,\n",
       "        -0.98507766, -0.07764101, -0.26354787, -0.53034001, -0.58468071,\n",
       "        -0.42315826,  0.03318608,  0.96470079, -0.59170457,  0.63607643,\n",
       "        -0.78653007, -0.49969607,  0.32083676, -0.33073675, -0.26040818,\n",
       "         0.12631319,  1.02266203,  1.08425974, -0.05220961,  0.38416792,\n",
       "        -0.20356933,  0.07821314, -0.39470685,  0.81780486,  0.7861167 ,\n",
       "        -0.0227556 ,  0.74839713,  0.59982874, -0.65238339, -0.40665133,\n",
       "         0.38766434,  0.45655193,  0.10465743,  0.10861234, -0.3374134 ,\n",
       "         0.29711891,  0.75672607,  0.50962023, -0.32449134, -0.02123177,\n",
       "        -0.32837889,  0.12569651,  0.17344679,  0.2941778 ,  0.03922571,\n",
       "        -0.1026106 , -0.59559063, -0.54552727, -0.54148975,  0.353574  ,\n",
       "        -0.36993068,  0.21210129, -0.70285402,  0.64074226, -0.17154134,\n",
       "         0.49356033,  0.51657441,  0.24662382,  0.10050604,  0.54933646,\n",
       "        -1.19285471, -0.33896515, -0.83247595,  0.57378244, -0.0340275 ,\n",
       "        -0.68887341,  0.12950808, -0.48225606,  0.53449759,  0.5765344 ,\n",
       "        -0.19259252, -0.71507211,  0.93274029,  0.10892491, -0.1905697 ,\n",
       "         0.63585606,  0.3001746 , -0.05588416,  0.55718504, -0.24397247,\n",
       "         0.01018823, -0.22477549, -0.90239936,  0.6031776 ,  0.95649428,\n",
       "        -0.01030209, -0.44215522, -0.69999235, -0.13728235, -0.67816832])}"
      ]
     },
     "execution_count": 20,
     "metadata": {},
     "output_type": "execute_result"
    }
   ],
   "source": [
    "## Returned comments, including\n",
    "# Summed electricity consumption during the last time step (15min in this case), unit: kWh\n",
    "# Summed uncomfortable degree hours during the last time step, unit: degC*h\n",
    "# Internal heat gain for each TCL\n",
    "# Solar heat gain for each TCL\n",
    "# Modelling uncertainty for each TCL, unit: degC\n",
    "# Measurement error for each TCL, unit: degC\n",
    "comments"
   ]
  },
  {
   "cell_type": "code",
   "execution_count": 21,
   "metadata": {},
   "outputs": [
    {
     "data": {
      "text/plain": [
       "-542.5273369747075"
      ]
     },
     "execution_count": 21,
     "metadata": {},
     "output_type": "execute_result"
    }
   ],
   "source": [
    "# Returned reward, caluculated as the weighted sum of energy consumption and uncomfortable degree hours using\n",
    "# the costWeight input\n",
    "# Users can use the observations and comments to re-calculate the rewards\n",
    "reward"
   ]
  },
  {
   "cell_type": "code",
   "execution_count": 22,
   "metadata": {},
   "outputs": [
    {
     "data": {
      "text/plain": [
       "False"
      ]
     },
     "execution_count": 22,
     "metadata": {},
     "output_type": "execute_result"
    }
   ],
   "source": [
    "# Flag indicating whether the eposide end or not\n",
    "done"
   ]
  },
  {
   "cell_type": "code",
   "execution_count": null,
   "metadata": {},
   "outputs": [],
   "source": []
  }
 ],
 "metadata": {
  "hide_input": false,
  "kernelspec": {
   "display_name": "ecobee_env",
   "language": "python",
   "name": "ecobee_env"
  },
  "language_info": {
   "codemirror_mode": {
    "name": "ipython",
    "version": 3
   },
   "file_extension": ".py",
   "mimetype": "text/x-python",
   "name": "python",
   "nbconvert_exporter": "python",
   "pygments_lexer": "ipython3",
   "version": "3.7.1"
  },
  "toc": {
   "base_numbering": 1,
   "nav_menu": {},
   "number_sections": true,
   "sideBar": true,
   "skip_h1_title": false,
   "title_cell": "Table of Contents",
   "title_sidebar": "Contents",
   "toc_cell": false,
   "toc_position": {},
   "toc_section_display": true,
   "toc_window_display": false
  },
  "varInspector": {
   "cols": {
    "lenName": 16,
    "lenType": 16,
    "lenVar": 40
   },
   "kernels_config": {
    "python": {
     "delete_cmd_postfix": "",
     "delete_cmd_prefix": "del ",
     "library": "var_list.py",
     "varRefreshCmd": "print(var_dic_list())"
    },
    "r": {
     "delete_cmd_postfix": ") ",
     "delete_cmd_prefix": "rm(",
     "library": "var_list.r",
     "varRefreshCmd": "cat(var_dic_list()) "
    }
   },
   "types_to_exclude": [
    "module",
    "function",
    "builtin_function_or_method",
    "instance",
    "_Feature"
   ],
   "window_display": false
  }
 },
 "nbformat": 4,
 "nbformat_minor": 4
}
