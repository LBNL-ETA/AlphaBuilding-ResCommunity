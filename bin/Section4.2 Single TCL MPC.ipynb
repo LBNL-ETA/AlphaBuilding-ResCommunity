{
 "cells": [
  {
   "cell_type": "markdown",
   "metadata": {},
   "source": [
    "This notebook is to demonstrate the application of AlphaBuilding ResCommunity by applying MPC on a single TCL\n",
    "\n",
    "Replace the variable *PATH_TO_ROOT* to run the notebook "
   ]
  },
  {
   "cell_type": "code",
   "execution_count": 1,
   "metadata": {},
   "outputs": [],
   "source": [
    "import sys\n",
    "\n",
    "PATH_TO_ROOT = 'C:/Users/walter/Desktop/git/AlphaBuilding-ResCommunity'\n",
    "sys.path.insert(0,PATH_TO_ROOT)"
   ]
  },
  {
   "cell_type": "code",
   "execution_count": 2,
   "metadata": {},
   "outputs": [],
   "source": [
    "import pandas as pd\n",
    "import numpy as np\n",
    "from datetime import date, timedelta\n",
    "import matplotlib.pyplot as plt\n",
    "\n",
    "## Casadi is the package we use to implement MPC\n",
    "from casadi import *\n",
    "\n",
    "from gym_AlphaBuilding.envs import residential\n",
    "from util.distribution import utility\n",
    "from util.weather import noaa_weather"
   ]
  },
  {
   "cell_type": "code",
   "execution_count": 3,
   "metadata": {},
   "outputs": [],
   "source": [
    "plt.rc('xtick', labelsize=14, color='grey')\n",
    "plt.rc('ytick', labelsize=14, color='grey')\n",
    "plt.rc('axes', titlesize=22)     # fontsize of the axes title\n",
    "plt.rc('axes', labelsize=18)    # fontsize of the x and y labels\n",
    "plt.rc('legend', fontsize=16)\n",
    "plt.rc('savefig', dpi=330, bbox='tight')\n",
    "\n",
    "default_colors = plt.rcParams['axes.prop_cycle'].by_key()['color']"
   ]
  },
  {
   "cell_type": "code",
   "execution_count": 4,
   "metadata": {},
   "outputs": [],
   "source": [
    "def generate_fig_name(fig_name):\n",
    "    '''\n",
    "    Generate the figure path and name\n",
    "    To be used by plt.savefig function\n",
    "    '''\n",
    "    return '{}/docs/fig/{}'.format(PATH_TO_ROOT, fig_name)"
   ]
  },
  {
   "cell_type": "markdown",
   "metadata": {},
   "source": [
    "## Prepare the environment"
   ]
  },
  {
   "cell_type": "code",
   "execution_count": 5,
   "metadata": {},
   "outputs": [],
   "source": [
    "# Specify the environment parameters\n",
    "city = 'Berkeley'\n",
    "state = 'CA'\n",
    "\n",
    "start_date = date(2020,8,1)\n",
    "final_date = date(2020,8,2)\n",
    "\n",
    "SAMPLE_SIZE = 1\n",
    "STEP_SIZE = 15 # min\n",
    "sim_horizon = (str(start_date), str(final_date))"
   ]
  },
  {
   "cell_type": "code",
   "execution_count": 6,
   "metadata": {},
   "outputs": [],
   "source": [
    "# Download weather data from NOAA weather stations\n",
    "# If you want to use your own weather data, skip this step\n",
    "address = '{}, {}'.format(city, state)\n",
    "station_ids, station_names = noaa_weather.find_closest_weather_station(noaa_weather.geocode_address(address))\n",
    "\n",
    "# You might need to try a couple of weather stations, because some weather stations have large missing rate \n",
    "weather = noaa_weather.download_weather(station_ids[0], start_date.year)\n",
    "weather = weather.tz_convert('America/Los_Angeles').tz_localize(None)  # remove tz-awareness\n",
    "\n",
    "# truncate and resample the weather data to fit the simulation horizon and time step\n",
    "weather_h = weather.resample('1H').mean()  # hourlu average to remove noise\n",
    "weather_ts = weather_h.resample('{}min'.format(STEP_SIZE)).interpolate()"
   ]
  },
  {
   "cell_type": "code",
   "execution_count": 54,
   "metadata": {},
   "outputs": [],
   "source": [
    "# To support the weather forecast function, 1 extra day of weather data needs to be input\n",
    "weather_ts = weather_ts.truncate(before=start_date, after=final_date+timedelta(days=1))"
   ]
  },
  {
   "cell_type": "code",
   "execution_count": 8,
   "metadata": {},
   "outputs": [],
   "source": [
    "weather_input = weather_ts\n",
    "weather_input['Temperature'] = weather_input['Temperature']+10"
   ]
  },
  {
   "cell_type": "code",
   "execution_count": 9,
   "metadata": {},
   "outputs": [],
   "source": [
    "# Retrieve the parameters\n",
    "ttc = utility.get_ttc(state)\n",
    "teq = utility.get_teq(state)\n",
    "tsp, trange = utility.get_comfort_temp('cooling', 'ASHRAE PMV')"
   ]
  },
  {
   "cell_type": "code",
   "execution_count": 10,
   "metadata": {},
   "outputs": [],
   "source": [
    "# Select the standard deviation of the modelling noise and measurement uncertainty\n",
    "\n",
    "noise_sigma = 0.01\n",
    "measurement_error_sigma = 0.2"
   ]
  },
  {
   "cell_type": "code",
   "execution_count": 11,
   "metadata": {},
   "outputs": [
    {
     "name": "stderr",
     "output_type": "stream",
     "text": [
      "C:\\Users\\walter\\Anaconda3\\envs\\ecobee_env\\lib\\site-packages\\gym\\logger.py:30: UserWarning: \u001b[33mWARN: Box bound precision lowered by casting to float16\u001b[0m\n",
      "  warnings.warn(colorize('%s: %s'%('WARN', msg % args), 'yellow'))\n"
     ]
    }
   ],
   "source": [
    "np.random.seed(1)\n",
    "\n",
    "env = residential.AlphaResEnv(sampleSize  = SAMPLE_SIZE, \n",
    "                           stepSize    = STEP_SIZE, \n",
    "                           simHorizon  = sim_horizon,\n",
    "                           ambientWeather = weather_input, \n",
    "                           ttc = ttc, \n",
    "                           teq = teq, \n",
    "                           tsp = tsp, \n",
    "                           trange = trange,\n",
    "                           hvacMode = 'cooling only',\n",
    "                           noiseSigma = noise_sigma,\n",
    "                           measurementErrorSigma = measurement_error_sigma)"
   ]
  },
  {
   "cell_type": "code",
   "execution_count": 12,
   "metadata": {},
   "outputs": [
    {
     "data": {
      "text/html": [
       "<div>\n",
       "<style scoped>\n",
       "    .dataframe tbody tr th:only-of-type {\n",
       "        vertical-align: middle;\n",
       "    }\n",
       "\n",
       "    .dataframe tbody tr th {\n",
       "        vertical-align: top;\n",
       "    }\n",
       "\n",
       "    .dataframe thead th {\n",
       "        text-align: right;\n",
       "    }\n",
       "</style>\n",
       "<table border=\"1\" class=\"dataframe\">\n",
       "  <thead>\n",
       "    <tr style=\"text-align: right;\">\n",
       "      <th></th>\n",
       "      <th>R</th>\n",
       "      <th>C</th>\n",
       "      <th>P_h</th>\n",
       "      <th>P_c</th>\n",
       "      <th>Q_h</th>\n",
       "      <th>Q_c</th>\n",
       "      <th>COP_h</th>\n",
       "      <th>COP_c</th>\n",
       "      <th>T_sp</th>\n",
       "      <th>T_range</th>\n",
       "    </tr>\n",
       "  </thead>\n",
       "  <tbody>\n",
       "    <tr>\n",
       "      <th>0</th>\n",
       "      <td>3.478848</td>\n",
       "      <td>7.11812</td>\n",
       "      <td>3.950448</td>\n",
       "      <td>3.190601</td>\n",
       "      <td>7.756767</td>\n",
       "      <td>-9.357086</td>\n",
       "      <td>1.963516</td>\n",
       "      <td>2.932704</td>\n",
       "      <td>25.4</td>\n",
       "      <td>2.9</td>\n",
       "    </tr>\n",
       "  </tbody>\n",
       "</table>\n",
       "</div>"
      ],
      "text/plain": [
       "          R        C       P_h       P_c       Q_h       Q_c     COP_h  \\\n",
       "0  3.478848  7.11812  3.950448  3.190601  7.756767 -9.357086  1.963516   \n",
       "\n",
       "      COP_c  T_sp  T_range  \n",
       "0  2.932704  25.4      2.9  "
      ]
     },
     "execution_count": 12,
     "metadata": {},
     "output_type": "execute_result"
    }
   ],
   "source": [
    "pars = env.getParameters()\n",
    "pars"
   ]
  },
  {
   "cell_type": "code",
   "execution_count": 13,
   "metadata": {},
   "outputs": [
    {
     "data": {
      "text/plain": [
       "3.4788481496100925"
      ]
     },
     "execution_count": 13,
     "metadata": {},
     "output_type": "execute_result"
    }
   ],
   "source": [
    "pars.loc[0, 'R']"
   ]
  },
  {
   "cell_type": "markdown",
   "metadata": {},
   "source": [
    "## Rule Based Control"
   ]
  },
  {
   "cell_type": "code",
   "execution_count": 14,
   "metadata": {},
   "outputs": [],
   "source": [
    "# Implement a rule-based controller\n",
    "\n",
    "class controller_RBC():\n",
    "    def __init__(self, t_lower, t_upper):\n",
    "        self.t_lower = t_lower\n",
    "        self.t_upper = t_upper\n",
    "    \n",
    "    def action(self, t, a=0):\n",
    "        if t < self.t_lower:\n",
    "            action = 0\n",
    "        elif t > self.t_upper:\n",
    "            action = 2    # 2 for cooling\n",
    "        else:\n",
    "            action = a\n",
    "        return action"
   ]
  },
  {
   "cell_type": "code",
   "execution_count": 15,
   "metadata": {},
   "outputs": [],
   "source": [
    "t_lower = pars.loc[0, 'T_sp'] - pars.loc[0, 'T_range']/2\n",
    "t_upper = pars.loc[0, 'T_sp'] + pars.loc[0, 'T_range']/2\n",
    "    \n",
    "controller_rbc = controller_RBC(t_lower, t_upper)"
   ]
  },
  {
   "cell_type": "code",
   "execution_count": 16,
   "metadata": {},
   "outputs": [
    {
     "name": "stdout",
     "output_type": "stream",
     "text": [
      "Episode: 1\n",
      "Total Energy Consumption (kWh)\n",
      "0.0\n",
      "Total Uncomfortable Degree Hours (K*h)\n",
      "22.760876203786715\n"
     ]
    }
   ],
   "source": [
    "# Simulate conventional RBC\n",
    "\n",
    "np.random.seed(1)\n",
    "\n",
    "obs = env.reset()\n",
    "act_previous = [0]*SAMPLE_SIZE\n",
    "\n",
    "T_in_rbc = pd.DataFrame(index=env.t_index[:-1], columns = list(range(SAMPLE_SIZE)))\n",
    "Action_rbc = pd.DataFrame(index=env.t_index[:-1], columns = list(range(SAMPLE_SIZE)))\n",
    "\n",
    "for time in T_in_rbc.index:\n",
    "    t_in = obs[-SAMPLE_SIZE:]\n",
    "    t_amb = [obs[0]]*SAMPLE_SIZE\n",
    "    action = [0]*SAMPLE_SIZE\n",
    "    for i in range(SAMPLE_SIZE):\n",
    "        action[i] = controller_rbc.action(t_in[i], act_previous[i])\n",
    "    obs,_,_,_ = env.step(np.array(action)*2)    # 2 for cooling\n",
    "    T_in_rbc.loc[time] = t_in\n",
    "    Action_rbc.loc[time] = action\n",
    "    act_previous = action"
   ]
  },
  {
   "cell_type": "markdown",
   "metadata": {},
   "source": [
    "## MPC\n",
    "### Read electricity price"
   ]
  },
  {
   "cell_type": "code",
   "execution_count": 67,
   "metadata": {},
   "outputs": [
    {
     "data": {
      "text/html": [
       "<div>\n",
       "<style scoped>\n",
       "    .dataframe tbody tr th:only-of-type {\n",
       "        vertical-align: middle;\n",
       "    }\n",
       "\n",
       "    .dataframe tbody tr th {\n",
       "        vertical-align: top;\n",
       "    }\n",
       "\n",
       "    .dataframe thead th {\n",
       "        text-align: right;\n",
       "    }\n",
       "</style>\n",
       "<table border=\"1\" class=\"dataframe\">\n",
       "  <thead>\n",
       "    <tr style=\"text-align: right;\">\n",
       "      <th></th>\n",
       "      <th>e_price</th>\n",
       "      <th>d_price</th>\n",
       "    </tr>\n",
       "    <tr>\n",
       "      <th>date_time</th>\n",
       "      <th></th>\n",
       "      <th></th>\n",
       "    </tr>\n",
       "  </thead>\n",
       "  <tbody>\n",
       "    <tr>\n",
       "      <th>2020-01-01 00:00:00</th>\n",
       "      <td>0.1115</td>\n",
       "      <td>21.08</td>\n",
       "    </tr>\n",
       "    <tr>\n",
       "      <th>2020-01-01 00:15:00</th>\n",
       "      <td>0.1115</td>\n",
       "      <td>21.08</td>\n",
       "    </tr>\n",
       "    <tr>\n",
       "      <th>2020-01-01 00:30:00</th>\n",
       "      <td>0.1115</td>\n",
       "      <td>21.08</td>\n",
       "    </tr>\n",
       "    <tr>\n",
       "      <th>2020-01-01 00:45:00</th>\n",
       "      <td>0.1115</td>\n",
       "      <td>21.08</td>\n",
       "    </tr>\n",
       "    <tr>\n",
       "      <th>2020-01-01 01:00:00</th>\n",
       "      <td>0.1115</td>\n",
       "      <td>21.08</td>\n",
       "    </tr>\n",
       "  </tbody>\n",
       "</table>\n",
       "</div>"
      ],
      "text/plain": [
       "                     e_price  d_price\n",
       "date_time                            \n",
       "2020-01-01 00:00:00   0.1115    21.08\n",
       "2020-01-01 00:15:00   0.1115    21.08\n",
       "2020-01-01 00:30:00   0.1115    21.08\n",
       "2020-01-01 00:45:00   0.1115    21.08\n",
       "2020-01-01 01:00:00   0.1115    21.08"
      ]
     },
     "execution_count": 67,
     "metadata": {},
     "output_type": "execute_result"
    }
   ],
   "source": [
    "e_price = pd.read_csv(f'{PATH_TO_ROOT}/data/e_price.csv', index_col=0)\n",
    "e_price.index = pd.to_datetime(e_price.index)\n",
    "e_price.head()"
   ]
  },
  {
   "cell_type": "code",
   "execution_count": 68,
   "metadata": {},
   "outputs": [
    {
     "data": {
      "text/plain": [
       "<AxesSubplot:xlabel='date_time'>"
      ]
     },
     "execution_count": 68,
     "metadata": {},
     "output_type": "execute_result"
    },
    {
     "data": {
      "image/png": "[encoded data removed]",
      "text/plain": [
       "<Figure size 432x288 with 1 Axes>"
      ]
     },
     "metadata": {
      "needs_background": "dark"
     },
     "output_type": "display_data"
    }
   ],
   "source": [
    "e_price = e_price.truncate(before = start_date, after = final_date+timedelta(days=1))\n",
    "e_price['e_price'].plot()"
   ]
  },
  {
   "cell_type": "markdown",
   "metadata": {},
   "source": [
    "### Run simulation"
   ]
  },
  {
   "cell_type": "code",
   "execution_count": 101,
   "metadata": {},
   "outputs": [],
   "source": [
    "# Implement a rule-based controller\n",
    "\n",
    "class controller_MPC():\n",
    "    def __init__(self, R, C, T, N, Q_c):\n",
    "        '''\n",
    "        R: Thermal Resistance\n",
    "        C: Thermal Capacity\n",
    "        T: Time horizon, unit [h]\n",
    "        N: Number of control steps\n",
    "        Q_c: maximum cooling capacity, should be negative\n",
    "        \n",
    "        '''\n",
    "        self.r = R\n",
    "        self.c = C\n",
    "        self.t = T\n",
    "        self.n = N\n",
    "        self.q_c = Q_c\n",
    "\n",
    "        self.F_x = MX.sym('x')    # States\n",
    "\n",
    "        self.F_to = MX.sym('to')  # Ambient temp\n",
    "        self.F_u = MX.sym('u')    # Controls\n",
    "        self.F_p = vertcat(self.F_to, self.F_u)\n",
    "\n",
    "        self.F_ode = (self.F_to-self.F_x)/(self.r*self.c) + self.F_u/(self.r*self.c)\n",
    "\n",
    "        self.F_dae = {'x':self.F_x, 'p':self.F_p, 'ode':self.F_ode}  # x-variable, change in each time step;\n",
    "                                                                     # p-parameter, does not change in each time step\n",
    "        self.F_opts = {'tf':self.t/self.n}\n",
    "\n",
    "        self.F = integrator('F', 'cvodes', self.F_dae, self.F_opts)\n",
    "    \n",
    "    def action(self, t_current, t_ambient, t_eq, t_lower, t_upper, e_price):\n",
    "        '''\n",
    "        t_current: Indoor temperature of the current time step\n",
    "        t_ambient: Ambient temperature of the coming hours, np array of size (N+1,)\n",
    "        t_eq: Equivalent temperature of the coming hours, np array of size (N+1,)\n",
    "        t_lower: Lower bound of comfort zone of the coming hours, np array of size (N+1,)\n",
    "        t_upper: Upper bound of comfort zone of the coming hours, np array of size (N+1,)\n",
    "        e_price: electricity price of the coming hours, np array of size (N+1,)\n",
    "        '''\n",
    "        opti = casadi.Opti()\n",
    "\n",
    "        self.opti_X = opti.variable(1,self.n+1)  # Decision variables for states\n",
    "        self.opti_U = opti.variable(1,self.n)    # Decision variables for controls\n",
    "        self.opti_P = opti.parameter(4,self.n+1) # Parameter (not optimized over), [ambient temp., t_low, t_up, e_price]\n",
    "\n",
    "        opti.minimize(-sum2(self.opti_U*self.opti_P[3,:-1]))\n",
    "\n",
    "        for k in range(self.n):\n",
    "            opti.subject_to(self.opti_X[0,k+1]==self.F(x0=self.opti_X[0,k], \n",
    "                                                       p =vertcat(self.opti_P[0,k], self.opti_U[0,k]))['xf'])\n",
    "            opti.subject_to(self.opti_P[1,k+1]<=self.opti_X[0,k+1])\n",
    "            opti.subject_to(self.opti_X[0,k+1]<=self.opti_P[2,k+1])\n",
    "\n",
    "        opti.subject_to(self.opti_U<=0)\n",
    "        opti.subject_to(self.opti_U>=self.q_c*self.r)\n",
    "        opti.subject_to(self.opti_X[:,0]==t_current)\n",
    "        \n",
    "        opti.solver('ipopt')\n",
    "        \n",
    "        t_total = t_ambient+t_eq\n",
    "        opti.set_value(self.opti_P, np.vstack((t_total, t_lower, t_upper, e_price)))\n",
    "        \n",
    "        sol=opti.solve()\n",
    "        \n",
    "        return sol.value(self.opti_U)"
   ]
  },
  {
   "cell_type": "code",
   "execution_count": 102,
   "metadata": {},
   "outputs": [],
   "source": [
    "# Simulate MPC\n",
    "\n",
    "np.random.seed(1)\n",
    "\n",
    "obs = env.reset()\n",
    "\n",
    "controller_mpc = controller_MPC(pars.loc[0, 'R'], pars.loc[0, 'C'], 24, 96, pars.loc[0, 'Q_c'])\n",
    "\n",
    "T_in_mpc = pd.DataFrame(index=env.t_index[:-1], columns = list(range(SAMPLE_SIZE)))\n",
    "Action_mpc = pd.DataFrame(index=env.t_index[:-1], columns = list(range(SAMPLE_SIZE)))"
   ]
  },
  {
   "cell_type": "code",
   "execution_count": 103,
   "metadata": {},
   "outputs": [
    {
     "data": {
      "text/plain": [
       "array([26.7       ,  7.        ,  0.        , 24.02942402])"
      ]
     },
     "execution_count": 103,
     "metadata": {},
     "output_type": "execute_result"
    }
   ],
   "source": [
    "obs"
   ]
  },
  {
   "cell_type": "code",
   "execution_count": 104,
   "metadata": {},
   "outputs": [],
   "source": [
    "t_current = obs[0];\n",
    "input_data = env.weatherForecast()[['Temperature']]\n",
    "t_eq = env.otherHGForecast().flatten()\n",
    "t_eq = np.append(t_eq,t_eq[0])\n",
    "input_data['t_eq'] = t_eq\n",
    "input_data['t_lower'] = pars.loc[0, 'T_sp'] - pars.loc[0, 'T_range']/2\n",
    "input_data['t_upper'] = pars.loc[0, 'T_sp'] + pars.loc[0, 'T_range']/2\n",
    "input_data = input_data.resample('15T').interpolate(method='linear')"
   ]
  },
  {
   "cell_type": "code",
   "execution_count": 105,
   "metadata": {},
   "outputs": [
    {
     "name": "stdout",
     "output_type": "stream",
     "text": [
      "This is Ipopt version 3.12.3, running with linear solver mumps.\n",
      "NOTE: Other linear solvers might be more efficient (see Ipopt documentation).\n",
      "\n",
      "Number of nonzeros in equality constraint Jacobian...:      289\n",
      "Number of nonzeros in inequality constraint Jacobian.:      384\n",
      "Number of nonzeros in Lagrangian Hessian.............:        0\n",
      "\n",
      "Total number of variables............................:      193\n",
      "                     variables with only lower bounds:        0\n",
      "                variables with lower and upper bounds:        0\n",
      "                     variables with only upper bounds:        0\n",
      "Total number of equality constraints.................:       97\n",
      "Total number of inequality constraints...............:      384\n",
      "        inequality constraints with only lower bounds:      192\n",
      "   inequality constraints with lower and upper bounds:        0\n",
      "        inequality constraints with only upper bounds:      192\n",
      "\n",
      "iter    objective    inf_pr   inf_du lg(mu)  ||d||  lg(rg) alpha_du alpha_pr  ls\n",
      "   0 -0.0000000e+000 2.67e+001 5.15e-002  -1.0 0.00e+000    -  0.00e+000 0.00e+000   0\n",
      "   1 1.9141838e+000 2.85e+000 2.03e+001  -1.0 2.98e+001    -  4.16e-002 8.93e-001f  1\n",
      "   2 2.6089201e+000 2.58e+000 1.84e+001  -1.0 2.85e+000    -  2.13e-001 9.51e-002h  1\n",
      "   3 2.1015106e+001 1.61e+000 1.15e+001  -1.0 1.39e+001    -  1.12e-001 3.75e-001h  1\n",
      "   4 4.0014512e+001 7.21e-001 2.22e+001  -1.0 5.40e+000    -  8.70e-002 5.52e-001h  1\n",
      "   5 5.6971646e+001 2.07e-005 3.34e+001  -1.0 3.54e+000    -  3.31e-001 1.00e+000h  1\n",
      "   6 5.7198956e+001 1.37e-005 7.72e+000  -1.0 8.67e-001    -  7.09e-001 1.00e+000f  1\n",
      "   7 5.7516917e+001 1.25e-005 4.86e-003  -1.0 1.85e+000    -  9.98e-001 1.00e+000f  1\n",
      "   8 5.4272701e+001 4.24e-005 1.15e-002  -1.7 7.60e+000    -  6.58e-001 6.65e-001f  1\n",
      "   9 5.2727276e+001 4.06e-005 1.72e+000  -2.5 1.75e+001    -  5.60e-001 3.68e-001f  1\n",
      "iter    objective    inf_pr   inf_du lg(mu)  ||d||  lg(rg) alpha_du alpha_pr  ls\n",
      "  10 4.9651607e+001 4.10e-005 5.45e-001  -2.5 1.35e+001    -  5.30e-001 8.26e-001f  1\n",
      "  11 4.9392454e+001 2.56e-005 4.79e-001  -2.5 4.38e+000    -  8.07e-001 4.13e-001f  1\n",
      "  12 4.9015586e+001 2.23e-005 2.83e-008  -2.5 5.47e+000    -  1.00e+000 1.00e+000f  1\n",
      "  13 4.8837946e+001 1.55e-005 3.68e-002  -3.8 5.14e+000    -  7.50e-001 7.97e-001f  1\n",
      "  14 4.8791354e+001 7.94e-006 2.60e-002  -3.8 2.78e+000    -  7.82e-001 9.56e-001f  1\n",
      "  15 4.8786135e+001 4.85e-006 1.50e-009  -3.8 2.24e+000    -  1.00e+000 1.00e+000f  1\n",
      "  16 4.8775954e+001 1.70e-005 1.25e-003  -5.7 9.96e-001    -  6.53e-001 7.12e-001f  1\n",
      "  17 4.8772189e+001 9.69e-007 2.53e-002  -5.7 3.94e-001    -  6.81e-001 1.00e+000f  1\n",
      "  18 4.8772083e+001 3.43e-007 1.84e-011  -5.7 2.82e-002    -  1.00e+000 1.00e+000h  1\n",
      "  19 4.8771905e+001 3.55e-008 1.56e-006  -8.6 1.64e-002    -  9.93e-001 9.96e-001h  1\n",
      "iter    objective    inf_pr   inf_du lg(mu)  ||d||  lg(rg) alpha_du alpha_pr  ls\n",
      "  20 4.8771903e+001 3.10e-010 2.53e-014  -8.6 8.44e-005    -  1.00e+000 1.00e+000f  1\n",
      "\n",
      "Number of Iterations....: 20\n",
      "\n",
      "                                   (scaled)                 (unscaled)\n",
      "Objective...............:  4.8771903369497153e+001   4.8771903369497153e+001\n",
      "Dual infeasibility......:  2.5313084961453569e-014   2.5313084961453569e-014\n",
      "Constraint violation....:  3.0980373821876128e-010   3.0980373821876128e-010\n",
      "Complementarity.........:  2.5063798243771699e-009   2.5063798243771699e-009\n",
      "Overall NLP error.......:  2.5063798243771699e-009   2.5063798243771699e-009\n",
      "\n",
      "\n",
      "Number of objective function evaluations             = 21\n",
      "Number of objective gradient evaluations             = 21\n",
      "Number of equality constraint evaluations            = 21\n",
      "Number of inequality constraint evaluations          = 21\n",
      "Number of equality constraint Jacobian evaluations   = 21\n",
      "Number of inequality constraint Jacobian evaluations = 21\n",
      "Number of Lagrangian Hessian evaluations             = 20\n",
      "Total CPU secs in IPOPT (w/o function evaluations)   =      0.047\n",
      "Total CPU secs in NLP function evaluations           =      0.078\n",
      "\n",
      "EXIT: Optimal Solution Found.\n",
      "      solver  :   t_proc      (avg)   t_wall      (avg)    n_eval\n",
      "       nlp_f  |        0 (       0)        0 (       0)        21\n",
      "       nlp_g  |  31.00ms (  1.48ms)  31.28ms (  1.49ms)        21\n",
      "    nlp_grad  |  15.00ms ( 15.00ms)  15.63ms ( 15.63ms)         1\n",
      "  nlp_grad_f  |        0 (       0)        0 (       0)        22\n",
      "  nlp_hess_l  |        0 (       0)        0 (       0)        20\n",
      "   nlp_jac_g  |  47.00ms (  2.14ms)  46.86ms (  2.13ms)        22\n",
      "       total  | 140.00ms (140.00ms) 140.63ms (140.63ms)         1\n"
     ]
    }
   ],
   "source": [
    "sol = controller_mpc.action(t_current, \n",
    "                            input_data['Temperature'].values,\n",
    "                            input_data['t_eq'].values,\n",
    "                            input_data['t_lower'].values,\n",
    "                            input_data['t_upper'].values,\n",
    "                            e_price.loc[input_data.index,'e_price'].values)"
   ]
  },
  {
   "cell_type": "code",
   "execution_count": 106,
   "metadata": {},
   "outputs": [
    {
     "data": {
      "text/plain": [
       "array([-2.48518273e-07, -2.79388973e-07, -3.19085086e-07, -3.72019212e-07,\n",
       "       -4.46133920e-07, -5.57314048e-07, -7.42623135e-07, -1.11324659e-06,\n",
       "       -2.22507421e-06, -2.71444964e-01, -1.17891657e+00, -1.03829156e+00,\n",
       "       -8.97666558e-01, -8.29210180e-01, -7.60753802e-01, -6.92297424e-01,\n",
       "       -6.23841045e-01, -6.90053289e-01, -7.56265533e-01, -8.22477777e-01,\n",
       "       -8.88690020e-01, -9.66815020e-01, -1.04494002e+00, -1.12306502e+00,\n",
       "       -1.20119002e+00, -1.25744002e+00, -1.31369002e+00, -1.36994002e+00,\n",
       "       -1.42619002e+00, -1.67694255e+00, -1.92769508e+00, -2.17844761e+00,\n",
       "       -2.42920013e+00, -2.93917583e+00, -3.44915152e+00, -3.95912722e+00,\n",
       "       -4.46910291e+00, -4.92282412e+00, -5.37654534e+00, -5.83026655e+00,\n",
       "       -6.28398776e+00, -6.95259041e+00, -7.62119306e+00, -8.28979571e+00,\n",
       "       -8.95839836e+00, -9.41911313e+00, -2.22964272e+01, -3.25518805e+01,\n",
       "       -3.25518816e+01, -3.25518820e+01, -3.25518821e+01, -3.25518822e+01,\n",
       "       -3.25518823e+01, -3.25518824e+01, -3.25518824e+01, -3.25518824e+01,\n",
       "       -2.58162457e-07, -2.99675497e-07, -3.57077788e-07, -4.41645512e-07,\n",
       "       -5.78630865e-07, -8.38636447e-07, -1.52237272e-06, -8.22252130e-06,\n",
       "       -7.62321518e-08, -8.04596183e-08, -8.51727336e-08, -9.04599981e-08,\n",
       "       -9.64328064e-08, -1.03233362e-07, -1.11046119e-07, -1.20114734e-07,\n",
       "       -1.30767890e-07, -1.43459928e-07, -1.58837248e-07, -1.77851778e-07,\n",
       "       -2.01965681e-07, -2.33546112e-07, -2.76693563e-07, -3.39183914e-07,\n",
       "       -4.37775622e-07, -6.16447458e-07, -1.03945170e-06, -3.29146256e-06,\n",
       "       -1.31721527e+00, -1.28820761e+00, -1.25920175e+00, -1.23019588e+00,\n",
       "       -1.20119002e+00, -1.17716527e+00, -1.15314053e+00, -1.12911401e+00,\n",
       "       -1.10509316e+00, -1.08760992e+00, -1.07012880e+00, -1.05264545e+00])"
      ]
     },
     "execution_count": 106,
     "metadata": {},
     "output_type": "execute_result"
    }
   ],
   "source": [
    "sol"
   ]
  },
  {
   "cell_type": "code",
   "execution_count": 23,
   "metadata": {},
   "outputs": [
    {
     "name": "stdout",
     "output_type": "stream",
     "text": [
      "Episode: 2\n",
      "Total Energy Consumption (kWh)\n",
      "0.0\n",
      "Total Uncomfortable Degree Hours (K*h)\n",
      "22.760876203786715\n"
     ]
    }
   ],
   "source": [
    "for time in T_in_mpc.index:\n",
    "    t_current = obs[0];\n",
    "    t_forecast = env.weatherForecast()['Temperature']\n",
    "    \n",
    "    \n",
    "    t_in = obs[-SAMPLE_SIZE:]\n",
    "    t_amb = [obs[0]]*SAMPLE_SIZE\n",
    "    action = [0]*SAMPLE_SIZE\n",
    "    for i in range(SAMPLE_SIZE):\n",
    "        action[i] = controller_rbc.action(t_in[i], act_previous[i])\n",
    "    obs,_,_,_ = env.step(np.array(action)*2)    # 2 for cooling\n",
    "    T_in_mpc.loc[time] = t_in\n",
    "    Action_mpc.loc[time] = action\n",
    "    act_previous = action"
   ]
  },
  {
   "cell_type": "code",
   "execution_count": null,
   "metadata": {},
   "outputs": [],
   "source": []
  },
  {
   "cell_type": "code",
   "execution_count": null,
   "metadata": {},
   "outputs": [],
   "source": []
  },
  {
   "cell_type": "code",
   "execution_count": null,
   "metadata": {},
   "outputs": [],
   "source": []
  },
  {
   "cell_type": "code",
   "execution_count": null,
   "metadata": {},
   "outputs": [],
   "source": []
  }
 ],
 "metadata": {
  "hide_input": false,
  "kernelspec": {
   "display_name": "ecobee_env",
   "language": "python",
   "name": "ecobee_env"
  },
  "language_info": {
   "codemirror_mode": {
    "name": "ipython",
    "version": 3
   },
   "file_extension": ".py",
   "mimetype": "text/x-python",
   "name": "python",
   "nbconvert_exporter": "python",
   "pygments_lexer": "ipython3",
   "version": "3.7.1"
  },
  "toc": {
   "base_numbering": 1,
   "nav_menu": {},
   "number_sections": true,
   "sideBar": true,
   "skip_h1_title": false,
   "title_cell": "Table of Contents",
   "title_sidebar": "Contents",
   "toc_cell": false,
   "toc_position": {},
   "toc_section_display": true,
   "toc_window_display": false
  },
  "varInspector": {
   "cols": {
    "lenName": 16,
    "lenType": 16,
    "lenVar": 40
   },
   "kernels_config": {
    "python": {
     "delete_cmd_postfix": "",
     "delete_cmd_prefix": "del ",
     "library": "var_list.py",
     "varRefreshCmd": "print(var_dic_list())"
    },
    "r": {
     "delete_cmd_postfix": ") ",
     "delete_cmd_prefix": "rm(",
     "library": "var_list.r",
     "varRefreshCmd": "cat(var_dic_list()) "
    }
   },
   "types_to_exclude": [
    "module",
    "function",
    "builtin_function_or_method",
    "instance",
    "_Feature"
   ],
   "window_display": false
  }
 },
 "nbformat": 4,
 "nbformat_minor": 4
}
