{
 "cells": [
  {
   "cell_type": "markdown",
   "metadata": {},
   "source": [
    "This notebook is to demonstrate the interface of the developed environment\n",
    "\n",
    "Replace the variable *PATH_TO_ROOT* to run the notebook"
   ]
  },
  {
   "cell_type": "code",
   "execution_count": 1,
   "metadata": {},
   "outputs": [],
   "source": [
    "import sys\n",
    "\n",
    "PATH_TO_ROOT = 'C:/Users/walter/Desktop/git/AlphaBuilding-ResCommunity'\n",
    "sys.path.insert(0,PATH_TO_ROOT)"
   ]
  },
  {
   "cell_type": "code",
   "execution_count": 3,
   "metadata": {},
   "outputs": [],
   "source": [
    "import pandas as pd\n",
    "import numpy as np\n",
    "\n",
    "from gym_AlphaBuilding.envs import residential\n",
    "from bin.util.distribution import utility\n",
    "from bin.util.weather import noaa_weather"
   ]
  },
  {
   "cell_type": "code",
   "execution_count": 4,
   "metadata": {},
   "outputs": [],
   "source": [
    "city = 'Berkeley'\n",
    "state = 'CA'\n",
    "start_date = '2018-07-01'\n",
    "final_date = '2018-08-01'\n",
    "year = 2018"
   ]
  },
  {
   "cell_type": "code",
   "execution_count": 5,
   "metadata": {},
   "outputs": [],
   "source": [
    "ttc = utility.get_ttc(state)\n",
    "teq = utility.get_teq(state)\n",
    "tsp, trange = utility.get_comfort_temp('cooling', 'ASHRAE PMV')"
   ]
  },
  {
   "cell_type": "code",
   "execution_count": 6,
   "metadata": {},
   "outputs": [],
   "source": [
    "SAMPLE_SIZE = 100\n",
    "STEP_SIZE = 15 # min\n",
    "sim_horizon = (start_date, final_date)"
   ]
  },
  {
   "cell_type": "code",
   "execution_count": 7,
   "metadata": {},
   "outputs": [],
   "source": [
    "# Download weather data from NOAA weather stations\n",
    "# If you want to use your own weather data, skip this step\n",
    "address = '{}, {}'.format(city, state)\n",
    "station_ids, station_names = noaa_weather.find_closest_weather_station(noaa_weather.geocode_address(address))\n",
    "\n",
    "# You might need to try a couple of weather stations, because some weather stations have large missing rate \n",
    "weather = noaa_weather.download_weather(station_ids[0], year)\n",
    "weather = weather.tz_convert('America/Los_Angeles').tz_localize(None)  # remove tz-awareness\n",
    "\n",
    "# truncate and resample the weather data to fit the simulation horizon and time step\n",
    "weather_h = weather.resample('1H').mean()  # hourlu average to remove noise\n",
    "# ambient_temp = weather_h.resample('{}min'.format(STEP_SIZE)).interpolate()[['Temperature']]\n",
    "weather_h = weather_h.resample('{}min'.format(STEP_SIZE)).interpolate()\n",
    "weather_h = weather_h.truncate(*sim_horizon)"
   ]
  },
  {
   "cell_type": "code",
   "execution_count": 8,
   "metadata": {},
   "outputs": [],
   "source": [
    "weather_h = weather_h.resample('{}min'.format(STEP_SIZE)).interpolate()"
   ]
  },
  {
   "cell_type": "code",
   "execution_count": 9,
   "metadata": {},
   "outputs": [
    {
     "name": "stderr",
     "output_type": "stream",
     "text": [
      "C:\\Users\\walter\\Anaconda3\\envs\\ecobee_env\\lib\\site-packages\\gym\\logger.py:30: UserWarning: \u001b[33mWARN: Box bound precision lowered by casting to float16\u001b[0m\n",
      "  warnings.warn(colorize('%s: %s'%('WARN', msg % args), 'yellow'))\n"
     ]
    }
   ],
   "source": [
    "env = residential.AlphaResEnv(sample_size  = SAMPLE_SIZE, \n",
    "                           step_size    = STEP_SIZE, \n",
    "                           sim_horizon  = (start_date, final_date),\n",
    "                           ambient_weather = weather_h, \n",
    "                           ttc = ttc, \n",
    "                           teq = teq, \n",
    "                           tsp = tsp, \n",
    "                           trange = trange,\n",
    "                           hvac_mode = 'cooling only',\n",
    "                           otherHG_method = 'Ecobee',\n",
    "                           noise_sigma = 0.01,\n",
    "                           cost_weight = (10, 1))"
   ]
  },
  {
   "cell_type": "code",
   "execution_count": 10,
   "metadata": {},
   "outputs": [
    {
     "data": {
      "text/plain": [
       "17.017112179094926"
      ]
     },
     "execution_count": 10,
     "metadata": {},
     "output_type": "execute_result"
    }
   ],
   "source": [
    "env.Q_h.mean()"
   ]
  },
  {
   "cell_type": "code",
   "execution_count": 11,
   "metadata": {},
   "outputs": [
    {
     "data": {
      "text/plain": [
       "100"
      ]
     },
     "execution_count": 11,
     "metadata": {},
     "output_type": "execute_result"
    }
   ],
   "source": [
    "len(env.T_high)"
   ]
  },
  {
   "cell_type": "code",
   "execution_count": 12,
   "metadata": {},
   "outputs": [
    {
     "data": {
      "text/plain": [
       "array([14.4       ,  4.        ,  0.        , 24.76672991, 26.46570434,\n",
       "       24.83045372, 24.40266909, 25.9825167 , 25.51985327, 25.67811294,\n",
       "       26.59943781, 26.40984396, 25.29229681, 23.98095905, 25.38339704,\n",
       "       26.76669106, 24.67781783, 25.28526032, 24.23280562, 25.93229342,\n",
       "       25.28941238, 24.10537832, 26.31856719, 26.49482239, 24.7933331 ,\n",
       "       26.38038274, 24.77820504, 26.18150736, 24.71457652, 25.50329354,\n",
       "       25.56519041, 25.86906003, 24.52195075, 25.28036047, 25.39131303,\n",
       "       24.69122963, 25.18503879, 25.29571005, 25.48774973, 24.86653458,\n",
       "       25.19761857, 24.60728128, 25.92479041, 26.83831166, 26.77038832,\n",
       "       26.82392258, 25.60614929, 25.2279601 , 24.38574759, 26.06385446,\n",
       "       26.3036843 , 26.1211748 , 24.87676596, 25.58052389, 25.12811416,\n",
       "       25.92482288, 24.02087952, 25.88228966, 26.2016718 , 24.27735184,\n",
       "       25.02500388, 26.22513952, 25.71158195, 25.19286197, 24.2551101 ,\n",
       "       26.36831501, 25.80855803, 25.87372035, 25.56026628, 26.74050254,\n",
       "       26.66832911, 25.73032864, 25.48792868, 24.79305202, 24.42463128,\n",
       "       24.7928935 , 25.238283  , 24.86383967, 25.06732991, 26.13789464,\n",
       "       24.70847322, 24.42079299, 25.06450104, 25.43459551, 24.39312713,\n",
       "       25.05973513, 26.22262325, 25.12230983, 24.67535465, 26.41967736,\n",
       "       26.43342118, 26.12328606, 26.19961379, 25.04162231, 25.79843279,\n",
       "       24.15070577, 24.07513104, 25.46610236, 26.6005328 , 25.49841696,\n",
       "       25.3693573 , 25.71509164, 24.53401659])"
      ]
     },
     "execution_count": 12,
     "metadata": {},
     "output_type": "execute_result"
    }
   ],
   "source": [
    "env.reset()"
   ]
  },
  {
   "cell_type": "code",
   "execution_count": 13,
   "metadata": {},
   "outputs": [
    {
     "data": {
      "text/plain": [
       "0.0"
      ]
     },
     "execution_count": 13,
     "metadata": {},
     "output_type": "execute_result"
    }
   ],
   "source": [
    "env.obs[env.obs_names.index('hour')]"
   ]
  },
  {
   "cell_type": "code",
   "execution_count": 14,
   "metadata": {},
   "outputs": [
    {
     "data": {
      "text/plain": [
       "(array([14.275     ,  4.        ,  0.        , 22.82207882, 26.10039196,\n",
       "        23.17113666, 23.81616538, 23.68476062, 25.19552023, 25.7859952 ,\n",
       "        24.87914877, 25.03914401, 23.73247044, 24.01152676, 23.52391552,\n",
       "        26.76860418, 23.84257774, 24.8295625 , 21.59263787, 25.48250071,\n",
       "        23.60972716, 23.04744486, 24.03833568, 25.2048401 , 23.70410843,\n",
       "        25.01108319, 23.25228158, 25.48253782, 24.18080134, 25.04236144,\n",
       "        23.44493558, 24.9087481 , 22.71958328, 24.40636841, 24.35858322,\n",
       "        24.96149545, 24.40716628, 24.59185881, 24.61002925, 25.27194789,\n",
       "        24.46527433, 22.94926896, 25.44239346, 25.84620504, 24.20753513,\n",
       "        24.98745874, 24.66239779, 25.20266731, 23.5503187 , 25.85329801,\n",
       "        24.92514274, 23.48456793, 23.73157551, 24.87032009, 23.26423684,\n",
       "        25.83030567, 24.01478631, 25.63545255, 25.31938692, 22.71174941,\n",
       "        24.67165449, 25.22791902, 23.64415779, 24.52579308, 23.39469395,\n",
       "        26.2063099 , 24.00475454, 23.31272396, 24.53628431, 25.5645388 ,\n",
       "        24.81647493, 24.92757774, 24.74056267, 24.45682926, 24.22493166,\n",
       "        24.51617907, 24.62477059, 24.95331241, 24.29541162, 25.64520803,\n",
       "        23.66036975, 23.18883177, 25.19997638, 24.17461673, 23.41045115,\n",
       "        23.28058115, 26.02156894, 24.99378954, 23.75001017, 25.43855906,\n",
       "        25.81693516, 25.11906252, 25.63894639, 24.97128025, 24.76055478,\n",
       "        24.33345985, 23.06340429, 24.61012409, 25.01814991, 25.08989429,\n",
       "        24.10279932, 24.75285081, 23.15615804]),\n",
       " -239.64519568121477,\n",
       " False,\n",
       " {'Energy': 192.18750392159933,\n",
       "  'Comfort_UCDH': 4.745769175961546,\n",
       "  'intHG': array([1.04883952, 2.5884699 , 1.47655778, 3.5936031 , 1.69033913,\n",
       "         2.58333279, 2.20995213, 2.54647762, 1.56049839, 0.03436949,\n",
       "         5.24318158, 2.99903009, 2.76292174, 1.96963511, 2.82000643,\n",
       "         2.50536868, 3.76618745, 2.58078685, 3.15978718, 3.14310988,\n",
       "         3.4929952 , 5.01923167, 1.68445072, 1.01267615, 6.21318978,\n",
       "         0.88845186, 2.17823481, 2.37077538, 2.68512716, 3.15951576,\n",
       "         1.88139379, 1.73960555, 5.63146115, 2.87239975, 0.67015995,\n",
       "         0.2420724 , 1.63010718, 2.44430102, 2.77477358, 2.18958913,\n",
       "         1.01062496, 0.99348819, 0.88503336, 1.28789655, 3.8817297 ,\n",
       "         1.78035781, 1.35064888, 1.31105847, 5.70069297, 2.9347024 ,\n",
       "         1.45376727, 0.8766297 , 2.57646802, 2.03795815, 1.17801418,\n",
       "         1.51554166, 3.07093198, 2.79046285, 1.43087582, 1.77607285,\n",
       "         2.99872126, 1.66189189, 3.8233199 , 3.28706428, 0.38931799,\n",
       "         2.32772583, 3.73630261, 3.94396974, 0.71250677, 1.59754047,\n",
       "         5.61932646, 3.29086419, 4.8424052 , 2.72124925, 4.40419688,\n",
       "         2.07227936, 3.02792177, 0.78146223, 1.79929201, 5.54134478,\n",
       "         4.84821263, 0.62443638, 5.34049814, 3.05951949, 1.87902332,\n",
       "         1.06183905, 0.16342742, 0.98812737, 1.81350416, 2.04072216,\n",
       "         2.63006183, 1.34375211, 5.36699222, 3.60929906, 3.02552606,\n",
       "         6.75545089, 0.47904015, 3.11844314, 5.49005918, 3.47623311]),\n",
       "  'solHG': array([0., 0., 0., 0., 0., 0., 0., 0., 0., 0., 0., 0., 0., 0., 0., 0., 0.,\n",
       "         0., 0., 0., 0., 0., 0., 0., 0., 0., 0., 0., 0., 0., 0., 0., 0., 0.,\n",
       "         0., 0., 0., 0., 0., 0., 0., 0., 0., 0., 0., 0., 0., 0., 0., 0., 0.,\n",
       "         0., 0., 0., 0., 0., 0., 0., 0., 0., 0., 0., 0., 0., 0., 0., 0., 0.,\n",
       "         0., 0., 0., 0., 0., 0., 0., 0., 0., 0., 0., 0., 0., 0., 0., 0., 0.,\n",
       "         0., 0., 0., 0., 0., 0., 0., 0., 0., 0., 0., 0., 0., 0., 0.]),\n",
       "  'noise': array([-0.12028639, -0.24658571, -0.82790954, -0.0102749 , -0.12996496,\n",
       "          0.1125868 , -0.04432364,  0.55665732, -0.08138341,  0.2059911 ,\n",
       "         -0.19372057, -0.22757507,  0.01224878, -0.20214875,  0.1571853 ,\n",
       "          0.16166936,  0.02064597, -0.16889715, -0.19688794, -0.19463067,\n",
       "         -1.03780302, -0.57651853, -0.17289844,  0.0883076 ,  0.09227969,\n",
       "         -0.14784058,  0.39716061, -0.18875034, -0.28837872, -0.10067932,\n",
       "          0.04646642, -0.80688425,  0.07670348,  0.22662131, -0.31696391,\n",
       "          0.00612992, -0.48221384, -0.17771803,  0.32078354, -0.11271271,\n",
       "         -0.25859443, -0.34894105, -0.13599009, -0.06755314,  0.0504269 ,\n",
       "         -0.62144285, -0.08950626, -0.03802124,  0.31457243,  0.19594509,\n",
       "         -0.3405356 , -0.13406459,  0.46265305,  0.00552564,  0.13940567,\n",
       "          0.2458112 ,  0.32074655,  0.33238142, -0.12937417,  0.08668797,\n",
       "          0.20838489,  0.02447483, -0.40903679, -0.02375707,  0.16149326,\n",
       "         -0.00972491, -0.41560144,  0.20211369,  0.0050641 ,  0.39536588,\n",
       "         -0.19280679, -0.10989399,  0.1057002 ,  0.17053537,  0.04313044,\n",
       "          0.50594979,  0.30052543,  0.38856628, -0.00639727,  0.14685751,\n",
       "         -0.211206  ,  0.15590563, -0.0107821 , -0.40163633,  0.16247928,\n",
       "          0.35459168,  0.26571173,  0.04117996,  0.64182148, -0.00982398,\n",
       "          0.02455032, -0.43017179, -0.10913819,  0.1061345 , -0.02814115,\n",
       "         -0.19776853, -0.04068736,  0.04453877,  0.19851024, -0.21634233]),\n",
       "  'error': array([-1.23568072e-01,  5.34507615e-01, -7.16340286e-01,  3.52020040e-01,\n",
       "         -3.53851669e-01,  3.35449670e-01,  7.35162201e-01, -1.60669356e-01,\n",
       "         -3.75263242e-01,  8.39015051e-02,  1.61516666e+00, -1.05525360e+00,\n",
       "          8.63603600e-01,  3.28111084e-02,  1.15105171e+00, -5.15310277e-01,\n",
       "          1.50924179e-01, -9.27300026e-02, -3.42549210e-01,  2.29084878e-01,\n",
       "         -4.64606943e-01, -1.02168076e-01, -7.36723622e-01,  3.75660433e-01,\n",
       "         -1.65550617e-01,  3.27044879e-01,  4.09312603e-01, -7.69626118e-01,\n",
       "         -2.55515732e-01, -6.76039197e-01,  7.58297787e-02, -2.60853545e-01,\n",
       "          1.13374838e+00,  7.58155653e-02,  9.00731581e-02, -1.88360574e-01,\n",
       "          1.12233638e+00, -9.25201253e-02, -1.10552138e+00,  3.27059635e-01,\n",
       "         -2.02183222e-03, -2.42276128e-01, -8.81396956e-01,  5.86751757e-02,\n",
       "          8.28383438e-01, -2.67771178e-01,  3.21840505e-01,  3.44393918e-01,\n",
       "         -2.73286281e-01, -4.70164458e-01,  1.06755877e-01, -6.08743348e-01,\n",
       "          6.63624765e-01,  8.55506816e-01,  8.07550372e-01,  1.45616138e-01,\n",
       "         -3.16401984e-01,  4.51193572e-01,  3.19852850e-02, -9.81851822e-01,\n",
       "         -1.02169549e-02, -2.35915386e-01,  4.05031040e-01, -2.13245804e-01,\n",
       "         -4.80372089e-02, -1.15566228e-01, -5.34880857e-01,  1.58417372e-02,\n",
       "          1.91665685e-01,  3.14266818e-01,  3.28461873e-01,  3.41083497e-01,\n",
       "          2.56530932e-01,  8.67543545e-02,  1.16705613e+00,  1.47915147e-02,\n",
       "          5.27423824e-01, -1.46859739e-01, -4.77820183e-02,  7.88644417e-01,\n",
       "          3.75397334e-02, -3.31477530e-01,  2.86817209e-01,  3.51795188e-01,\n",
       "          5.15038561e-01, -1.89793438e-01,  1.64430715e-01,  1.02143906e-01,\n",
       "          4.23278075e-02, -5.69942269e-04,  6.02119920e-01, -4.80963721e-01,\n",
       "          1.15080988e+00,  2.21814425e-01, -6.12015168e-02, -7.77560931e-01,\n",
       "          7.06057334e-01, -5.95950602e-01, -9.76384888e-02, -5.99534940e-01])})"
      ]
     },
     "execution_count": 14,
     "metadata": {},
     "output_type": "execute_result"
    }
   ],
   "source": [
    "# 1 for heating, 2 for cooling, 0 for free floating\n",
    "env.step(np.ones(100)*2)"
   ]
  },
  {
   "cell_type": "code",
   "execution_count": null,
   "metadata": {},
   "outputs": [],
   "source": []
  }
 ],
 "metadata": {
  "hide_input": false,
  "kernelspec": {
   "display_name": "ecobee_env",
   "language": "python",
   "name": "ecobee_env"
  },
  "language_info": {
   "codemirror_mode": {
    "name": "ipython",
    "version": 3
   },
   "file_extension": ".py",
   "mimetype": "text/x-python",
   "name": "python",
   "nbconvert_exporter": "python",
   "pygments_lexer": "ipython3",
   "version": "3.7.1"
  },
  "toc": {
   "base_numbering": 1,
   "nav_menu": {},
   "number_sections": true,
   "sideBar": true,
   "skip_h1_title": false,
   "title_cell": "Table of Contents",
   "title_sidebar": "Contents",
   "toc_cell": false,
   "toc_position": {},
   "toc_section_display": true,
   "toc_window_display": false
  },
  "varInspector": {
   "cols": {
    "lenName": 16,
    "lenType": 16,
    "lenVar": 40
   },
   "kernels_config": {
    "python": {
     "delete_cmd_postfix": "",
     "delete_cmd_prefix": "del ",
     "library": "var_list.py",
     "varRefreshCmd": "print(var_dic_list())"
    },
    "r": {
     "delete_cmd_postfix": ") ",
     "delete_cmd_prefix": "rm(",
     "library": "var_list.r",
     "varRefreshCmd": "cat(var_dic_list()) "
    }
   },
   "types_to_exclude": [
    "module",
    "function",
    "builtin_function_or_method",
    "instance",
    "_Feature"
   ],
   "window_display": false
  }
 },
 "nbformat": 4,
 "nbformat_minor": 4
}
